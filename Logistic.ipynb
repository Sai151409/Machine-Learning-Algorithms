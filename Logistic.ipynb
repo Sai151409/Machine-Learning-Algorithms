{
 "cells": [
  {
   "cell_type": "code",
   "execution_count": 1,
   "id": "4b4d71d9",
   "metadata": {},
   "outputs": [],
   "source": [
    "import numpy as np\n",
    "import pandas as pd\n",
    "import matplotlib.pyplot as plt\n",
    "import seaborn as sns\n",
    "import warnings\n",
    "warnings.filterwarnings(\"ignore\")"
   ]
  },
  {
   "cell_type": "code",
   "execution_count": 2,
   "id": "551e9b4b",
   "metadata": {},
   "outputs": [],
   "source": [
    "df = sns.load_dataset(\"iris\")"
   ]
  },
  {
   "cell_type": "code",
   "execution_count": 3,
   "id": "711a0595",
   "metadata": {},
   "outputs": [
    {
     "data": {
      "text/html": [
       "<div>\n",
       "<style scoped>\n",
       "    .dataframe tbody tr th:only-of-type {\n",
       "        vertical-align: middle;\n",
       "    }\n",
       "\n",
       "    .dataframe tbody tr th {\n",
       "        vertical-align: top;\n",
       "    }\n",
       "\n",
       "    .dataframe thead th {\n",
       "        text-align: right;\n",
       "    }\n",
       "</style>\n",
       "<table border=\"1\" class=\"dataframe\">\n",
       "  <thead>\n",
       "    <tr style=\"text-align: right;\">\n",
       "      <th></th>\n",
       "      <th>sepal_length</th>\n",
       "      <th>sepal_width</th>\n",
       "      <th>petal_length</th>\n",
       "      <th>petal_width</th>\n",
       "      <th>species</th>\n",
       "    </tr>\n",
       "  </thead>\n",
       "  <tbody>\n",
       "    <tr>\n",
       "      <th>0</th>\n",
       "      <td>5.1</td>\n",
       "      <td>3.5</td>\n",
       "      <td>1.4</td>\n",
       "      <td>0.2</td>\n",
       "      <td>setosa</td>\n",
       "    </tr>\n",
       "    <tr>\n",
       "      <th>1</th>\n",
       "      <td>4.9</td>\n",
       "      <td>3.0</td>\n",
       "      <td>1.4</td>\n",
       "      <td>0.2</td>\n",
       "      <td>setosa</td>\n",
       "    </tr>\n",
       "    <tr>\n",
       "      <th>2</th>\n",
       "      <td>4.7</td>\n",
       "      <td>3.2</td>\n",
       "      <td>1.3</td>\n",
       "      <td>0.2</td>\n",
       "      <td>setosa</td>\n",
       "    </tr>\n",
       "    <tr>\n",
       "      <th>3</th>\n",
       "      <td>4.6</td>\n",
       "      <td>3.1</td>\n",
       "      <td>1.5</td>\n",
       "      <td>0.2</td>\n",
       "      <td>setosa</td>\n",
       "    </tr>\n",
       "    <tr>\n",
       "      <th>4</th>\n",
       "      <td>5.0</td>\n",
       "      <td>3.6</td>\n",
       "      <td>1.4</td>\n",
       "      <td>0.2</td>\n",
       "      <td>setosa</td>\n",
       "    </tr>\n",
       "    <tr>\n",
       "      <th>...</th>\n",
       "      <td>...</td>\n",
       "      <td>...</td>\n",
       "      <td>...</td>\n",
       "      <td>...</td>\n",
       "      <td>...</td>\n",
       "    </tr>\n",
       "    <tr>\n",
       "      <th>145</th>\n",
       "      <td>6.7</td>\n",
       "      <td>3.0</td>\n",
       "      <td>5.2</td>\n",
       "      <td>2.3</td>\n",
       "      <td>virginica</td>\n",
       "    </tr>\n",
       "    <tr>\n",
       "      <th>146</th>\n",
       "      <td>6.3</td>\n",
       "      <td>2.5</td>\n",
       "      <td>5.0</td>\n",
       "      <td>1.9</td>\n",
       "      <td>virginica</td>\n",
       "    </tr>\n",
       "    <tr>\n",
       "      <th>147</th>\n",
       "      <td>6.5</td>\n",
       "      <td>3.0</td>\n",
       "      <td>5.2</td>\n",
       "      <td>2.0</td>\n",
       "      <td>virginica</td>\n",
       "    </tr>\n",
       "    <tr>\n",
       "      <th>148</th>\n",
       "      <td>6.2</td>\n",
       "      <td>3.4</td>\n",
       "      <td>5.4</td>\n",
       "      <td>2.3</td>\n",
       "      <td>virginica</td>\n",
       "    </tr>\n",
       "    <tr>\n",
       "      <th>149</th>\n",
       "      <td>5.9</td>\n",
       "      <td>3.0</td>\n",
       "      <td>5.1</td>\n",
       "      <td>1.8</td>\n",
       "      <td>virginica</td>\n",
       "    </tr>\n",
       "  </tbody>\n",
       "</table>\n",
       "<p>150 rows × 5 columns</p>\n",
       "</div>"
      ],
      "text/plain": [
       "     sepal_length  sepal_width  petal_length  petal_width    species\n",
       "0             5.1          3.5           1.4          0.2     setosa\n",
       "1             4.9          3.0           1.4          0.2     setosa\n",
       "2             4.7          3.2           1.3          0.2     setosa\n",
       "3             4.6          3.1           1.5          0.2     setosa\n",
       "4             5.0          3.6           1.4          0.2     setosa\n",
       "..            ...          ...           ...          ...        ...\n",
       "145           6.7          3.0           5.2          2.3  virginica\n",
       "146           6.3          2.5           5.0          1.9  virginica\n",
       "147           6.5          3.0           5.2          2.0  virginica\n",
       "148           6.2          3.4           5.4          2.3  virginica\n",
       "149           5.9          3.0           5.1          1.8  virginica\n",
       "\n",
       "[150 rows x 5 columns]"
      ]
     },
     "execution_count": 3,
     "metadata": {},
     "output_type": "execute_result"
    }
   ],
   "source": [
    "df"
   ]
  },
  {
   "cell_type": "code",
   "execution_count": 4,
   "id": "b8a3faba",
   "metadata": {},
   "outputs": [
    {
     "name": "stdout",
     "output_type": "stream",
     "text": [
      "<class 'pandas.core.frame.DataFrame'>\n",
      "RangeIndex: 150 entries, 0 to 149\n",
      "Data columns (total 5 columns):\n",
      " #   Column        Non-Null Count  Dtype  \n",
      "---  ------        --------------  -----  \n",
      " 0   sepal_length  150 non-null    float64\n",
      " 1   sepal_width   150 non-null    float64\n",
      " 2   petal_length  150 non-null    float64\n",
      " 3   petal_width   150 non-null    float64\n",
      " 4   species       150 non-null    object \n",
      "dtypes: float64(4), object(1)\n",
      "memory usage: 6.0+ KB\n"
     ]
    }
   ],
   "source": [
    "df.info()"
   ]
  },
  {
   "cell_type": "code",
   "execution_count": 5,
   "id": "3538ea5b",
   "metadata": {},
   "outputs": [
    {
     "data": {
      "text/html": [
       "<div>\n",
       "<style scoped>\n",
       "    .dataframe tbody tr th:only-of-type {\n",
       "        vertical-align: middle;\n",
       "    }\n",
       "\n",
       "    .dataframe tbody tr th {\n",
       "        vertical-align: top;\n",
       "    }\n",
       "\n",
       "    .dataframe thead th {\n",
       "        text-align: right;\n",
       "    }\n",
       "</style>\n",
       "<table border=\"1\" class=\"dataframe\">\n",
       "  <thead>\n",
       "    <tr style=\"text-align: right;\">\n",
       "      <th></th>\n",
       "      <th>sepal_length</th>\n",
       "      <th>sepal_width</th>\n",
       "      <th>petal_length</th>\n",
       "      <th>petal_width</th>\n",
       "      <th>species</th>\n",
       "    </tr>\n",
       "  </thead>\n",
       "  <tbody>\n",
       "    <tr>\n",
       "      <th>0</th>\n",
       "      <td>5.1</td>\n",
       "      <td>3.5</td>\n",
       "      <td>1.4</td>\n",
       "      <td>0.2</td>\n",
       "      <td>setosa</td>\n",
       "    </tr>\n",
       "    <tr>\n",
       "      <th>1</th>\n",
       "      <td>4.9</td>\n",
       "      <td>3.0</td>\n",
       "      <td>1.4</td>\n",
       "      <td>0.2</td>\n",
       "      <td>setosa</td>\n",
       "    </tr>\n",
       "    <tr>\n",
       "      <th>2</th>\n",
       "      <td>4.7</td>\n",
       "      <td>3.2</td>\n",
       "      <td>1.3</td>\n",
       "      <td>0.2</td>\n",
       "      <td>setosa</td>\n",
       "    </tr>\n",
       "    <tr>\n",
       "      <th>3</th>\n",
       "      <td>4.6</td>\n",
       "      <td>3.1</td>\n",
       "      <td>1.5</td>\n",
       "      <td>0.2</td>\n",
       "      <td>setosa</td>\n",
       "    </tr>\n",
       "    <tr>\n",
       "      <th>4</th>\n",
       "      <td>5.0</td>\n",
       "      <td>3.6</td>\n",
       "      <td>1.4</td>\n",
       "      <td>0.2</td>\n",
       "      <td>setosa</td>\n",
       "    </tr>\n",
       "  </tbody>\n",
       "</table>\n",
       "</div>"
      ],
      "text/plain": [
       "   sepal_length  sepal_width  petal_length  petal_width species\n",
       "0           5.1          3.5           1.4          0.2  setosa\n",
       "1           4.9          3.0           1.4          0.2  setosa\n",
       "2           4.7          3.2           1.3          0.2  setosa\n",
       "3           4.6          3.1           1.5          0.2  setosa\n",
       "4           5.0          3.6           1.4          0.2  setosa"
      ]
     },
     "execution_count": 5,
     "metadata": {},
     "output_type": "execute_result"
    }
   ],
   "source": [
    "df.head()"
   ]
  },
  {
   "cell_type": "code",
   "execution_count": 6,
   "id": "82b695ba",
   "metadata": {},
   "outputs": [
    {
     "data": {
      "text/html": [
       "<div>\n",
       "<style scoped>\n",
       "    .dataframe tbody tr th:only-of-type {\n",
       "        vertical-align: middle;\n",
       "    }\n",
       "\n",
       "    .dataframe tbody tr th {\n",
       "        vertical-align: top;\n",
       "    }\n",
       "\n",
       "    .dataframe thead th {\n",
       "        text-align: right;\n",
       "    }\n",
       "</style>\n",
       "<table border=\"1\" class=\"dataframe\">\n",
       "  <thead>\n",
       "    <tr style=\"text-align: right;\">\n",
       "      <th></th>\n",
       "      <th>sepal_length</th>\n",
       "      <th>sepal_width</th>\n",
       "      <th>petal_length</th>\n",
       "      <th>petal_width</th>\n",
       "      <th>species</th>\n",
       "    </tr>\n",
       "  </thead>\n",
       "  <tbody>\n",
       "    <tr>\n",
       "      <th>145</th>\n",
       "      <td>6.7</td>\n",
       "      <td>3.0</td>\n",
       "      <td>5.2</td>\n",
       "      <td>2.3</td>\n",
       "      <td>virginica</td>\n",
       "    </tr>\n",
       "    <tr>\n",
       "      <th>146</th>\n",
       "      <td>6.3</td>\n",
       "      <td>2.5</td>\n",
       "      <td>5.0</td>\n",
       "      <td>1.9</td>\n",
       "      <td>virginica</td>\n",
       "    </tr>\n",
       "    <tr>\n",
       "      <th>147</th>\n",
       "      <td>6.5</td>\n",
       "      <td>3.0</td>\n",
       "      <td>5.2</td>\n",
       "      <td>2.0</td>\n",
       "      <td>virginica</td>\n",
       "    </tr>\n",
       "    <tr>\n",
       "      <th>148</th>\n",
       "      <td>6.2</td>\n",
       "      <td>3.4</td>\n",
       "      <td>5.4</td>\n",
       "      <td>2.3</td>\n",
       "      <td>virginica</td>\n",
       "    </tr>\n",
       "    <tr>\n",
       "      <th>149</th>\n",
       "      <td>5.9</td>\n",
       "      <td>3.0</td>\n",
       "      <td>5.1</td>\n",
       "      <td>1.8</td>\n",
       "      <td>virginica</td>\n",
       "    </tr>\n",
       "  </tbody>\n",
       "</table>\n",
       "</div>"
      ],
      "text/plain": [
       "     sepal_length  sepal_width  petal_length  petal_width    species\n",
       "145           6.7          3.0           5.2          2.3  virginica\n",
       "146           6.3          2.5           5.0          1.9  virginica\n",
       "147           6.5          3.0           5.2          2.0  virginica\n",
       "148           6.2          3.4           5.4          2.3  virginica\n",
       "149           5.9          3.0           5.1          1.8  virginica"
      ]
     },
     "execution_count": 6,
     "metadata": {},
     "output_type": "execute_result"
    }
   ],
   "source": [
    "df.tail()"
   ]
  },
  {
   "cell_type": "code",
   "execution_count": 7,
   "id": "413a4498",
   "metadata": {},
   "outputs": [
    {
     "data": {
      "text/plain": [
       "sepal_length    0\n",
       "sepal_width     0\n",
       "petal_length    0\n",
       "petal_width     0\n",
       "species         0\n",
       "dtype: int64"
      ]
     },
     "execution_count": 7,
     "metadata": {},
     "output_type": "execute_result"
    }
   ],
   "source": [
    "df.isnull().sum()"
   ]
  },
  {
   "cell_type": "code",
   "execution_count": 8,
   "id": "aea6905e",
   "metadata": {},
   "outputs": [
    {
     "data": {
      "text/plain": [
       "1"
      ]
     },
     "execution_count": 8,
     "metadata": {},
     "output_type": "execute_result"
    }
   ],
   "source": [
    "df.duplicated().sum()"
   ]
  },
  {
   "cell_type": "code",
   "execution_count": 9,
   "id": "0be6d156",
   "metadata": {},
   "outputs": [],
   "source": [
    "df.drop_duplicates(inplace=True)"
   ]
  },
  {
   "cell_type": "code",
   "execution_count": 10,
   "id": "87013871",
   "metadata": {},
   "outputs": [
    {
     "data": {
      "text/plain": [
       "0"
      ]
     },
     "execution_count": 10,
     "metadata": {},
     "output_type": "execute_result"
    }
   ],
   "source": [
    "df.duplicated().sum()"
   ]
  },
  {
   "cell_type": "code",
   "execution_count": 11,
   "id": "c866cf60",
   "metadata": {},
   "outputs": [],
   "source": [
    "# Univariate Analysis"
   ]
  },
  {
   "cell_type": "code",
   "execution_count": 12,
   "id": "abb68041",
   "metadata": {},
   "outputs": [
    {
     "data": {
      "text/plain": [
       "array([[<AxesSubplot: title={'center': 'sepal_length'}>,\n",
       "        <AxesSubplot: title={'center': 'sepal_width'}>],\n",
       "       [<AxesSubplot: title={'center': 'petal_length'}>,\n",
       "        <AxesSubplot: title={'center': 'petal_width'}>]], dtype=object)"
      ]
     },
     "execution_count": 12,
     "metadata": {},
     "output_type": "execute_result"
    },
    {
     "data": {
      "image/png": "[encoded data removed]",
      "text/plain": [
       "<Figure size 640x480 with 4 Axes>"
      ]
     },
     "metadata": {},
     "output_type": "display_data"
    }
   ],
   "source": [
    "df.hist()"
   ]
  },
  {
   "cell_type": "code",
   "execution_count": 13,
   "id": "54d76dbd",
   "metadata": {},
   "outputs": [
    {
     "data": {
      "text/plain": [
       "<AxesSubplot: >"
      ]
     },
     "execution_count": 13,
     "metadata": {},
     "output_type": "execute_result"
    },
    {
     "data": {
      "image/png": "[encoded data removed]",
      "text/plain": [
       "<Figure size 640x480 with 1 Axes>"
      ]
     },
     "metadata": {},
     "output_type": "display_data"
    }
   ],
   "source": [
    "df.boxplot()"
   ]
  },
  {
   "cell_type": "code",
   "execution_count": 14,
   "id": "c580d56a",
   "metadata": {},
   "outputs": [
    {
     "data": {
      "text/plain": [
       "<AxesSubplot: xlabel='sepal_length', ylabel='Density'>"
      ]
     },
     "execution_count": 14,
     "metadata": {},
     "output_type": "execute_result"
    },
    {
     "data": {
      "image/png": "[encoded data removed]",
      "text/plain": [
       "<Figure size 640x480 with 1 Axes>"
      ]
     },
     "metadata": {},
     "output_type": "display_data"
    }
   ],
   "source": [
    "sns.distplot(df['sepal_length'])"
   ]
  },
  {
   "cell_type": "code",
   "execution_count": 15,
   "id": "e4845ca6",
   "metadata": {},
   "outputs": [
    {
     "data": {
      "text/plain": [
       "<AxesSubplot: xlabel='sepal_width', ylabel='Density'>"
      ]
     },
     "execution_count": 15,
     "metadata": {},
     "output_type": "execute_result"
    },
    {
     "data": {
      "image/png": "[encoded data removed]",
      "text/plain": [
       "<Figure size 640x480 with 1 Axes>"
      ]
     },
     "metadata": {},
     "output_type": "display_data"
    }
   ],
   "source": [
    "sns.distplot(df['sepal_width'])"
   ]
  },
  {
   "cell_type": "code",
   "execution_count": 16,
   "id": "d9c3eda3",
   "metadata": {},
   "outputs": [
    {
     "data": {
      "text/plain": [
       "<AxesSubplot: xlabel='petal_length', ylabel='Density'>"
      ]
     },
     "execution_count": 16,
     "metadata": {},
     "output_type": "execute_result"
    },
    {
     "data": {
      "image/png": "[encoded data removed]",
      "text/plain": [
       "<Figure size 640x480 with 1 Axes>"
      ]
     },
     "metadata": {},
     "output_type": "display_data"
    }
   ],
   "source": [
    "sns.distplot(df['petal_length'])"
   ]
  },
  {
   "cell_type": "code",
   "execution_count": 17,
   "id": "91c75401",
   "metadata": {},
   "outputs": [
    {
     "data": {
      "text/plain": [
       "<AxesSubplot: xlabel='petal_width', ylabel='Density'>"
      ]
     },
     "execution_count": 17,
     "metadata": {},
     "output_type": "execute_result"
    },
    {
     "data": {
      "image/png": "[encoded data removed]",
      "text/plain": [
       "<Figure size 640x480 with 1 Axes>"
      ]
     },
     "metadata": {},
     "output_type": "display_data"
    }
   ],
   "source": [
    "sns.distplot(df['petal_width'])"
   ]
  },
  {
   "cell_type": "code",
   "execution_count": 18,
   "id": "881bead9",
   "metadata": {},
   "outputs": [
    {
     "data": {
      "text/html": [
       "<div>\n",
       "<style scoped>\n",
       "    .dataframe tbody tr th:only-of-type {\n",
       "        vertical-align: middle;\n",
       "    }\n",
       "\n",
       "    .dataframe tbody tr th {\n",
       "        vertical-align: top;\n",
       "    }\n",
       "\n",
       "    .dataframe thead th {\n",
       "        text-align: right;\n",
       "    }\n",
       "</style>\n",
       "<table border=\"1\" class=\"dataframe\">\n",
       "  <thead>\n",
       "    <tr style=\"text-align: right;\">\n",
       "      <th></th>\n",
       "      <th>sepal_length</th>\n",
       "      <th>sepal_width</th>\n",
       "      <th>petal_length</th>\n",
       "      <th>petal_width</th>\n",
       "    </tr>\n",
       "  </thead>\n",
       "  <tbody>\n",
       "    <tr>\n",
       "      <th>sepal_length</th>\n",
       "      <td>1.000000</td>\n",
       "      <td>-0.118129</td>\n",
       "      <td>0.873738</td>\n",
       "      <td>0.820620</td>\n",
       "    </tr>\n",
       "    <tr>\n",
       "      <th>sepal_width</th>\n",
       "      <td>-0.118129</td>\n",
       "      <td>1.000000</td>\n",
       "      <td>-0.426028</td>\n",
       "      <td>-0.362894</td>\n",
       "    </tr>\n",
       "    <tr>\n",
       "      <th>petal_length</th>\n",
       "      <td>0.873738</td>\n",
       "      <td>-0.426028</td>\n",
       "      <td>1.000000</td>\n",
       "      <td>0.962772</td>\n",
       "    </tr>\n",
       "    <tr>\n",
       "      <th>petal_width</th>\n",
       "      <td>0.820620</td>\n",
       "      <td>-0.362894</td>\n",
       "      <td>0.962772</td>\n",
       "      <td>1.000000</td>\n",
       "    </tr>\n",
       "  </tbody>\n",
       "</table>\n",
       "</div>"
      ],
      "text/plain": [
       "              sepal_length  sepal_width  petal_length  petal_width\n",
       "sepal_length      1.000000    -0.118129      0.873738     0.820620\n",
       "sepal_width      -0.118129     1.000000     -0.426028    -0.362894\n",
       "petal_length      0.873738    -0.426028      1.000000     0.962772\n",
       "petal_width       0.820620    -0.362894      0.962772     1.000000"
      ]
     },
     "execution_count": 18,
     "metadata": {},
     "output_type": "execute_result"
    }
   ],
   "source": [
    "df.corr()"
   ]
  },
  {
   "cell_type": "code",
   "execution_count": 19,
   "id": "0b5695e2",
   "metadata": {},
   "outputs": [],
   "source": [
    "df = sns.load_dataset('iris')"
   ]
  },
  {
   "cell_type": "code",
   "execution_count": 20,
   "id": "10801b22",
   "metadata": {},
   "outputs": [],
   "source": [
    "sepal_length = {}\n",
    "for i in df.species.unique():\n",
    "    sepal_length[i] = df[df['species'] == i]['sepal_length']"
   ]
  },
  {
   "cell_type": "code",
   "execution_count": 21,
   "id": "d7990b6a",
   "metadata": {},
   "outputs": [],
   "source": [
    "data = {}\n",
    "for column in df.columns[:-1]:\n",
    "    data[column] = {}\n",
    "    for i in df.species.unique():\n",
    "        data[column][i] = df[df['species'] == i][column]"
   ]
  },
  {
   "cell_type": "code",
   "execution_count": 22,
   "id": "c8fdb5b0",
   "metadata": {},
   "outputs": [
    {
     "data": {
      "text/plain": [
       "{'sepal_length': {'setosa': 0     5.1\n",
       "  1     4.9\n",
       "  2     4.7\n",
       "  3     4.6\n",
       "  4     5.0\n",
       "  5     5.4\n",
       "  6     4.6\n",
       "  7     5.0\n",
       "  8     4.4\n",
       "  9     4.9\n",
       "  10    5.4\n",
       "  11    4.8\n",
       "  12    4.8\n",
       "  13    4.3\n",
       "  14    5.8\n",
       "  15    5.7\n",
       "  16    5.4\n",
       "  17    5.1\n",
       "  18    5.7\n",
       "  19    5.1\n",
       "  20    5.4\n",
       "  21    5.1\n",
       "  22    4.6\n",
       "  23    5.1\n",
       "  24    4.8\n",
       "  25    5.0\n",
       "  26    5.0\n",
       "  27    5.2\n",
       "  28    5.2\n",
       "  29    4.7\n",
       "  30    4.8\n",
       "  31    5.4\n",
       "  32    5.2\n",
       "  33    5.5\n",
       "  34    4.9\n",
       "  35    5.0\n",
       "  36    5.5\n",
       "  37    4.9\n",
       "  38    4.4\n",
       "  39    5.1\n",
       "  40    5.0\n",
       "  41    4.5\n",
       "  42    4.4\n",
       "  43    5.0\n",
       "  44    5.1\n",
       "  45    4.8\n",
       "  46    5.1\n",
       "  47    4.6\n",
       "  48    5.3\n",
       "  49    5.0\n",
       "  Name: sepal_length, dtype: float64,\n",
       "  'versicolor': 50    7.0\n",
       "  51    6.4\n",
       "  52    6.9\n",
       "  53    5.5\n",
       "  54    6.5\n",
       "  55    5.7\n",
       "  56    6.3\n",
       "  57    4.9\n",
       "  58    6.6\n",
       "  59    5.2\n",
       "  60    5.0\n",
       "  61    5.9\n",
       "  62    6.0\n",
       "  63    6.1\n",
       "  64    5.6\n",
       "  65    6.7\n",
       "  66    5.6\n",
       "  67    5.8\n",
       "  68    6.2\n",
       "  69    5.6\n",
       "  70    5.9\n",
       "  71    6.1\n",
       "  72    6.3\n",
       "  73    6.1\n",
       "  74    6.4\n",
       "  75    6.6\n",
       "  76    6.8\n",
       "  77    6.7\n",
       "  78    6.0\n",
       "  79    5.7\n",
       "  80    5.5\n",
       "  81    5.5\n",
       "  82    5.8\n",
       "  83    6.0\n",
       "  84    5.4\n",
       "  85    6.0\n",
       "  86    6.7\n",
       "  87    6.3\n",
       "  88    5.6\n",
       "  89    5.5\n",
       "  90    5.5\n",
       "  91    6.1\n",
       "  92    5.8\n",
       "  93    5.0\n",
       "  94    5.6\n",
       "  95    5.7\n",
       "  96    5.7\n",
       "  97    6.2\n",
       "  98    5.1\n",
       "  99    5.7\n",
       "  Name: sepal_length, dtype: float64,\n",
       "  'virginica': 100    6.3\n",
       "  101    5.8\n",
       "  102    7.1\n",
       "  103    6.3\n",
       "  104    6.5\n",
       "  105    7.6\n",
       "  106    4.9\n",
       "  107    7.3\n",
       "  108    6.7\n",
       "  109    7.2\n",
       "  110    6.5\n",
       "  111    6.4\n",
       "  112    6.8\n",
       "  113    5.7\n",
       "  114    5.8\n",
       "  115    6.4\n",
       "  116    6.5\n",
       "  117    7.7\n",
       "  118    7.7\n",
       "  119    6.0\n",
       "  120    6.9\n",
       "  121    5.6\n",
       "  122    7.7\n",
       "  123    6.3\n",
       "  124    6.7\n",
       "  125    7.2\n",
       "  126    6.2\n",
       "  127    6.1\n",
       "  128    6.4\n",
       "  129    7.2\n",
       "  130    7.4\n",
       "  131    7.9\n",
       "  132    6.4\n",
       "  133    6.3\n",
       "  134    6.1\n",
       "  135    7.7\n",
       "  136    6.3\n",
       "  137    6.4\n",
       "  138    6.0\n",
       "  139    6.9\n",
       "  140    6.7\n",
       "  141    6.9\n",
       "  142    5.8\n",
       "  143    6.8\n",
       "  144    6.7\n",
       "  145    6.7\n",
       "  146    6.3\n",
       "  147    6.5\n",
       "  148    6.2\n",
       "  149    5.9\n",
       "  Name: sepal_length, dtype: float64},\n",
       " 'sepal_width': {'setosa': 0     3.5\n",
       "  1     3.0\n",
       "  2     3.2\n",
       "  3     3.1\n",
       "  4     3.6\n",
       "  5     3.9\n",
       "  6     3.4\n",
       "  7     3.4\n",
       "  8     2.9\n",
       "  9     3.1\n",
       "  10    3.7\n",
       "  11    3.4\n",
       "  12    3.0\n",
       "  13    3.0\n",
       "  14    4.0\n",
       "  15    4.4\n",
       "  16    3.9\n",
       "  17    3.5\n",
       "  18    3.8\n",
       "  19    3.8\n",
       "  20    3.4\n",
       "  21    3.7\n",
       "  22    3.6\n",
       "  23    3.3\n",
       "  24    3.4\n",
       "  25    3.0\n",
       "  26    3.4\n",
       "  27    3.5\n",
       "  28    3.4\n",
       "  29    3.2\n",
       "  30    3.1\n",
       "  31    3.4\n",
       "  32    4.1\n",
       "  33    4.2\n",
       "  34    3.1\n",
       "  35    3.2\n",
       "  36    3.5\n",
       "  37    3.6\n",
       "  38    3.0\n",
       "  39    3.4\n",
       "  40    3.5\n",
       "  41    2.3\n",
       "  42    3.2\n",
       "  43    3.5\n",
       "  44    3.8\n",
       "  45    3.0\n",
       "  46    3.8\n",
       "  47    3.2\n",
       "  48    3.7\n",
       "  49    3.3\n",
       "  Name: sepal_width, dtype: float64,\n",
       "  'versicolor': 50    3.2\n",
       "  51    3.2\n",
       "  52    3.1\n",
       "  53    2.3\n",
       "  54    2.8\n",
       "  55    2.8\n",
       "  56    3.3\n",
       "  57    2.4\n",
       "  58    2.9\n",
       "  59    2.7\n",
       "  60    2.0\n",
       "  61    3.0\n",
       "  62    2.2\n",
       "  63    2.9\n",
       "  64    2.9\n",
       "  65    3.1\n",
       "  66    3.0\n",
       "  67    2.7\n",
       "  68    2.2\n",
       "  69    2.5\n",
       "  70    3.2\n",
       "  71    2.8\n",
       "  72    2.5\n",
       "  73    2.8\n",
       "  74    2.9\n",
       "  75    3.0\n",
       "  76    2.8\n",
       "  77    3.0\n",
       "  78    2.9\n",
       "  79    2.6\n",
       "  80    2.4\n",
       "  81    2.4\n",
       "  82    2.7\n",
       "  83    2.7\n",
       "  84    3.0\n",
       "  85    3.4\n",
       "  86    3.1\n",
       "  87    2.3\n",
       "  88    3.0\n",
       "  89    2.5\n",
       "  90    2.6\n",
       "  91    3.0\n",
       "  92    2.6\n",
       "  93    2.3\n",
       "  94    2.7\n",
       "  95    3.0\n",
       "  96    2.9\n",
       "  97    2.9\n",
       "  98    2.5\n",
       "  99    2.8\n",
       "  Name: sepal_width, dtype: float64,\n",
       "  'virginica': 100    3.3\n",
       "  101    2.7\n",
       "  102    3.0\n",
       "  103    2.9\n",
       "  104    3.0\n",
       "  105    3.0\n",
       "  106    2.5\n",
       "  107    2.9\n",
       "  108    2.5\n",
       "  109    3.6\n",
       "  110    3.2\n",
       "  111    2.7\n",
       "  112    3.0\n",
       "  113    2.5\n",
       "  114    2.8\n",
       "  115    3.2\n",
       "  116    3.0\n",
       "  117    3.8\n",
       "  118    2.6\n",
       "  119    2.2\n",
       "  120    3.2\n",
       "  121    2.8\n",
       "  122    2.8\n",
       "  123    2.7\n",
       "  124    3.3\n",
       "  125    3.2\n",
       "  126    2.8\n",
       "  127    3.0\n",
       "  128    2.8\n",
       "  129    3.0\n",
       "  130    2.8\n",
       "  131    3.8\n",
       "  132    2.8\n",
       "  133    2.8\n",
       "  134    2.6\n",
       "  135    3.0\n",
       "  136    3.4\n",
       "  137    3.1\n",
       "  138    3.0\n",
       "  139    3.1\n",
       "  140    3.1\n",
       "  141    3.1\n",
       "  142    2.7\n",
       "  143    3.2\n",
       "  144    3.3\n",
       "  145    3.0\n",
       "  146    2.5\n",
       "  147    3.0\n",
       "  148    3.4\n",
       "  149    3.0\n",
       "  Name: sepal_width, dtype: float64},\n",
       " 'petal_length': {'setosa': 0     1.4\n",
       "  1     1.4\n",
       "  2     1.3\n",
       "  3     1.5\n",
       "  4     1.4\n",
       "  5     1.7\n",
       "  6     1.4\n",
       "  7     1.5\n",
       "  8     1.4\n",
       "  9     1.5\n",
       "  10    1.5\n",
       "  11    1.6\n",
       "  12    1.4\n",
       "  13    1.1\n",
       "  14    1.2\n",
       "  15    1.5\n",
       "  16    1.3\n",
       "  17    1.4\n",
       "  18    1.7\n",
       "  19    1.5\n",
       "  20    1.7\n",
       "  21    1.5\n",
       "  22    1.0\n",
       "  23    1.7\n",
       "  24    1.9\n",
       "  25    1.6\n",
       "  26    1.6\n",
       "  27    1.5\n",
       "  28    1.4\n",
       "  29    1.6\n",
       "  30    1.6\n",
       "  31    1.5\n",
       "  32    1.5\n",
       "  33    1.4\n",
       "  34    1.5\n",
       "  35    1.2\n",
       "  36    1.3\n",
       "  37    1.4\n",
       "  38    1.3\n",
       "  39    1.5\n",
       "  40    1.3\n",
       "  41    1.3\n",
       "  42    1.3\n",
       "  43    1.6\n",
       "  44    1.9\n",
       "  45    1.4\n",
       "  46    1.6\n",
       "  47    1.4\n",
       "  48    1.5\n",
       "  49    1.4\n",
       "  Name: petal_length, dtype: float64,\n",
       "  'versicolor': 50    4.7\n",
       "  51    4.5\n",
       "  52    4.9\n",
       "  53    4.0\n",
       "  54    4.6\n",
       "  55    4.5\n",
       "  56    4.7\n",
       "  57    3.3\n",
       "  58    4.6\n",
       "  59    3.9\n",
       "  60    3.5\n",
       "  61    4.2\n",
       "  62    4.0\n",
       "  63    4.7\n",
       "  64    3.6\n",
       "  65    4.4\n",
       "  66    4.5\n",
       "  67    4.1\n",
       "  68    4.5\n",
       "  69    3.9\n",
       "  70    4.8\n",
       "  71    4.0\n",
       "  72    4.9\n",
       "  73    4.7\n",
       "  74    4.3\n",
       "  75    4.4\n",
       "  76    4.8\n",
       "  77    5.0\n",
       "  78    4.5\n",
       "  79    3.5\n",
       "  80    3.8\n",
       "  81    3.7\n",
       "  82    3.9\n",
       "  83    5.1\n",
       "  84    4.5\n",
       "  85    4.5\n",
       "  86    4.7\n",
       "  87    4.4\n",
       "  88    4.1\n",
       "  89    4.0\n",
       "  90    4.4\n",
       "  91    4.6\n",
       "  92    4.0\n",
       "  93    3.3\n",
       "  94    4.2\n",
       "  95    4.2\n",
       "  96    4.2\n",
       "  97    4.3\n",
       "  98    3.0\n",
       "  99    4.1\n",
       "  Name: petal_length, dtype: float64,\n",
       "  'virginica': 100    6.0\n",
       "  101    5.1\n",
       "  102    5.9\n",
       "  103    5.6\n",
       "  104    5.8\n",
       "  105    6.6\n",
       "  106    4.5\n",
       "  107    6.3\n",
       "  108    5.8\n",
       "  109    6.1\n",
       "  110    5.1\n",
       "  111    5.3\n",
       "  112    5.5\n",
       "  113    5.0\n",
       "  114    5.1\n",
       "  115    5.3\n",
       "  116    5.5\n",
       "  117    6.7\n",
       "  118    6.9\n",
       "  119    5.0\n",
       "  120    5.7\n",
       "  121    4.9\n",
       "  122    6.7\n",
       "  123    4.9\n",
       "  124    5.7\n",
       "  125    6.0\n",
       "  126    4.8\n",
       "  127    4.9\n",
       "  128    5.6\n",
       "  129    5.8\n",
       "  130    6.1\n",
       "  131    6.4\n",
       "  132    5.6\n",
       "  133    5.1\n",
       "  134    5.6\n",
       "  135    6.1\n",
       "  136    5.6\n",
       "  137    5.5\n",
       "  138    4.8\n",
       "  139    5.4\n",
       "  140    5.6\n",
       "  141    5.1\n",
       "  142    5.1\n",
       "  143    5.9\n",
       "  144    5.7\n",
       "  145    5.2\n",
       "  146    5.0\n",
       "  147    5.2\n",
       "  148    5.4\n",
       "  149    5.1\n",
       "  Name: petal_length, dtype: float64},\n",
       " 'petal_width': {'setosa': 0     0.2\n",
       "  1     0.2\n",
       "  2     0.2\n",
       "  3     0.2\n",
       "  4     0.2\n",
       "  5     0.4\n",
       "  6     0.3\n",
       "  7     0.2\n",
       "  8     0.2\n",
       "  9     0.1\n",
       "  10    0.2\n",
       "  11    0.2\n",
       "  12    0.1\n",
       "  13    0.1\n",
       "  14    0.2\n",
       "  15    0.4\n",
       "  16    0.4\n",
       "  17    0.3\n",
       "  18    0.3\n",
       "  19    0.3\n",
       "  20    0.2\n",
       "  21    0.4\n",
       "  22    0.2\n",
       "  23    0.5\n",
       "  24    0.2\n",
       "  25    0.2\n",
       "  26    0.4\n",
       "  27    0.2\n",
       "  28    0.2\n",
       "  29    0.2\n",
       "  30    0.2\n",
       "  31    0.4\n",
       "  32    0.1\n",
       "  33    0.2\n",
       "  34    0.2\n",
       "  35    0.2\n",
       "  36    0.2\n",
       "  37    0.1\n",
       "  38    0.2\n",
       "  39    0.2\n",
       "  40    0.3\n",
       "  41    0.3\n",
       "  42    0.2\n",
       "  43    0.6\n",
       "  44    0.4\n",
       "  45    0.3\n",
       "  46    0.2\n",
       "  47    0.2\n",
       "  48    0.2\n",
       "  49    0.2\n",
       "  Name: petal_width, dtype: float64,\n",
       "  'versicolor': 50    1.4\n",
       "  51    1.5\n",
       "  52    1.5\n",
       "  53    1.3\n",
       "  54    1.5\n",
       "  55    1.3\n",
       "  56    1.6\n",
       "  57    1.0\n",
       "  58    1.3\n",
       "  59    1.4\n",
       "  60    1.0\n",
       "  61    1.5\n",
       "  62    1.0\n",
       "  63    1.4\n",
       "  64    1.3\n",
       "  65    1.4\n",
       "  66    1.5\n",
       "  67    1.0\n",
       "  68    1.5\n",
       "  69    1.1\n",
       "  70    1.8\n",
       "  71    1.3\n",
       "  72    1.5\n",
       "  73    1.2\n",
       "  74    1.3\n",
       "  75    1.4\n",
       "  76    1.4\n",
       "  77    1.7\n",
       "  78    1.5\n",
       "  79    1.0\n",
       "  80    1.1\n",
       "  81    1.0\n",
       "  82    1.2\n",
       "  83    1.6\n",
       "  84    1.5\n",
       "  85    1.6\n",
       "  86    1.5\n",
       "  87    1.3\n",
       "  88    1.3\n",
       "  89    1.3\n",
       "  90    1.2\n",
       "  91    1.4\n",
       "  92    1.2\n",
       "  93    1.0\n",
       "  94    1.3\n",
       "  95    1.2\n",
       "  96    1.3\n",
       "  97    1.3\n",
       "  98    1.1\n",
       "  99    1.3\n",
       "  Name: petal_width, dtype: float64,\n",
       "  'virginica': 100    2.5\n",
       "  101    1.9\n",
       "  102    2.1\n",
       "  103    1.8\n",
       "  104    2.2\n",
       "  105    2.1\n",
       "  106    1.7\n",
       "  107    1.8\n",
       "  108    1.8\n",
       "  109    2.5\n",
       "  110    2.0\n",
       "  111    1.9\n",
       "  112    2.1\n",
       "  113    2.0\n",
       "  114    2.4\n",
       "  115    2.3\n",
       "  116    1.8\n",
       "  117    2.2\n",
       "  118    2.3\n",
       "  119    1.5\n",
       "  120    2.3\n",
       "  121    2.0\n",
       "  122    2.0\n",
       "  123    1.8\n",
       "  124    2.1\n",
       "  125    1.8\n",
       "  126    1.8\n",
       "  127    1.8\n",
       "  128    2.1\n",
       "  129    1.6\n",
       "  130    1.9\n",
       "  131    2.0\n",
       "  132    2.2\n",
       "  133    1.5\n",
       "  134    1.4\n",
       "  135    2.3\n",
       "  136    2.4\n",
       "  137    1.8\n",
       "  138    1.8\n",
       "  139    2.1\n",
       "  140    2.4\n",
       "  141    2.3\n",
       "  142    1.9\n",
       "  143    2.3\n",
       "  144    2.5\n",
       "  145    2.3\n",
       "  146    1.9\n",
       "  147    2.0\n",
       "  148    2.3\n",
       "  149    1.8\n",
       "  Name: petal_width, dtype: float64}}"
      ]
     },
     "execution_count": 22,
     "metadata": {},
     "output_type": "execute_result"
    }
   ],
   "source": [
    "data"
   ]
  },
  {
   "cell_type": "code",
   "execution_count": 23,
   "id": "19805362",
   "metadata": {},
   "outputs": [],
   "source": [
    "from scipy.stats import f_oneway"
   ]
  },
  {
   "cell_type": "code",
   "execution_count": 24,
   "id": "4e306204",
   "metadata": {},
   "outputs": [
    {
     "name": "stdout",
     "output_type": "stream",
     "text": [
      "P-value of sepal_length : 1.669669190769383e-31\n",
      "There is relationship between means of ['setosa', 'versicolor', 'virginica']\n",
      "\n",
      "\n",
      "P-value of sepal_width : 4.49201713330911e-17\n",
      "There is relationship between means of ['setosa', 'versicolor', 'virginica']\n",
      "\n",
      "\n",
      "P-value of petal_length : 2.856776610961539e-91\n",
      "There is relationship between means of ['setosa', 'versicolor', 'virginica']\n",
      "\n",
      "\n",
      "P-value of petal_width : 4.1694458394430593e-85\n",
      "There is relationship between means of ['setosa', 'versicolor', 'virginica']\n",
      "\n",
      "\n"
     ]
    }
   ],
   "source": [
    "for i in data.keys():\n",
    "    _, p_value = f_oneway(data[i]['setosa'], data[i]['versicolor'], data[i]['virginica'])\n",
    "    print(f\"P-value of {i} : {p_value}\")\n",
    "    if p_value > 0.05:\n",
    "        print(f\"There is no relationship between means of {list(data[i].keys())}\")\n",
    "    else:\n",
    "        print(f\"There is relationship between means of {list(data[i].keys())}\")\n",
    "    print(\"\\n\")"
   ]
  },
  {
   "cell_type": "code",
   "execution_count": 25,
   "id": "67d0108e",
   "metadata": {},
   "outputs": [],
   "source": [
    "df['species'] = df['species'].map({'setosa' : 1, 'versicolor' : 2, 'virginica' : 3})"
   ]
  },
  {
   "cell_type": "code",
   "execution_count": 26,
   "id": "eb3afe70",
   "metadata": {},
   "outputs": [
    {
     "data": {
      "text/html": [
       "<div>\n",
       "<style scoped>\n",
       "    .dataframe tbody tr th:only-of-type {\n",
       "        vertical-align: middle;\n",
       "    }\n",
       "\n",
       "    .dataframe tbody tr th {\n",
       "        vertical-align: top;\n",
       "    }\n",
       "\n",
       "    .dataframe thead th {\n",
       "        text-align: right;\n",
       "    }\n",
       "</style>\n",
       "<table border=\"1\" class=\"dataframe\">\n",
       "  <thead>\n",
       "    <tr style=\"text-align: right;\">\n",
       "      <th></th>\n",
       "      <th>sepal_length</th>\n",
       "      <th>sepal_width</th>\n",
       "      <th>petal_length</th>\n",
       "      <th>petal_width</th>\n",
       "      <th>species</th>\n",
       "    </tr>\n",
       "  </thead>\n",
       "  <tbody>\n",
       "    <tr>\n",
       "      <th>0</th>\n",
       "      <td>5.1</td>\n",
       "      <td>3.5</td>\n",
       "      <td>1.4</td>\n",
       "      <td>0.2</td>\n",
       "      <td>1</td>\n",
       "    </tr>\n",
       "    <tr>\n",
       "      <th>1</th>\n",
       "      <td>4.9</td>\n",
       "      <td>3.0</td>\n",
       "      <td>1.4</td>\n",
       "      <td>0.2</td>\n",
       "      <td>1</td>\n",
       "    </tr>\n",
       "    <tr>\n",
       "      <th>2</th>\n",
       "      <td>4.7</td>\n",
       "      <td>3.2</td>\n",
       "      <td>1.3</td>\n",
       "      <td>0.2</td>\n",
       "      <td>1</td>\n",
       "    </tr>\n",
       "    <tr>\n",
       "      <th>3</th>\n",
       "      <td>4.6</td>\n",
       "      <td>3.1</td>\n",
       "      <td>1.5</td>\n",
       "      <td>0.2</td>\n",
       "      <td>1</td>\n",
       "    </tr>\n",
       "    <tr>\n",
       "      <th>4</th>\n",
       "      <td>5.0</td>\n",
       "      <td>3.6</td>\n",
       "      <td>1.4</td>\n",
       "      <td>0.2</td>\n",
       "      <td>1</td>\n",
       "    </tr>\n",
       "    <tr>\n",
       "      <th>...</th>\n",
       "      <td>...</td>\n",
       "      <td>...</td>\n",
       "      <td>...</td>\n",
       "      <td>...</td>\n",
       "      <td>...</td>\n",
       "    </tr>\n",
       "    <tr>\n",
       "      <th>145</th>\n",
       "      <td>6.7</td>\n",
       "      <td>3.0</td>\n",
       "      <td>5.2</td>\n",
       "      <td>2.3</td>\n",
       "      <td>3</td>\n",
       "    </tr>\n",
       "    <tr>\n",
       "      <th>146</th>\n",
       "      <td>6.3</td>\n",
       "      <td>2.5</td>\n",
       "      <td>5.0</td>\n",
       "      <td>1.9</td>\n",
       "      <td>3</td>\n",
       "    </tr>\n",
       "    <tr>\n",
       "      <th>147</th>\n",
       "      <td>6.5</td>\n",
       "      <td>3.0</td>\n",
       "      <td>5.2</td>\n",
       "      <td>2.0</td>\n",
       "      <td>3</td>\n",
       "    </tr>\n",
       "    <tr>\n",
       "      <th>148</th>\n",
       "      <td>6.2</td>\n",
       "      <td>3.4</td>\n",
       "      <td>5.4</td>\n",
       "      <td>2.3</td>\n",
       "      <td>3</td>\n",
       "    </tr>\n",
       "    <tr>\n",
       "      <th>149</th>\n",
       "      <td>5.9</td>\n",
       "      <td>3.0</td>\n",
       "      <td>5.1</td>\n",
       "      <td>1.8</td>\n",
       "      <td>3</td>\n",
       "    </tr>\n",
       "  </tbody>\n",
       "</table>\n",
       "<p>150 rows × 5 columns</p>\n",
       "</div>"
      ],
      "text/plain": [
       "     sepal_length  sepal_width  petal_length  petal_width  species\n",
       "0             5.1          3.5           1.4          0.2        1\n",
       "1             4.9          3.0           1.4          0.2        1\n",
       "2             4.7          3.2           1.3          0.2        1\n",
       "3             4.6          3.1           1.5          0.2        1\n",
       "4             5.0          3.6           1.4          0.2        1\n",
       "..            ...          ...           ...          ...      ...\n",
       "145           6.7          3.0           5.2          2.3        3\n",
       "146           6.3          2.5           5.0          1.9        3\n",
       "147           6.5          3.0           5.2          2.0        3\n",
       "148           6.2          3.4           5.4          2.3        3\n",
       "149           5.9          3.0           5.1          1.8        3\n",
       "\n",
       "[150 rows x 5 columns]"
      ]
     },
     "execution_count": 26,
     "metadata": {},
     "output_type": "execute_result"
    }
   ],
   "source": [
    "df"
   ]
  },
  {
   "cell_type": "code",
   "execution_count": 27,
   "id": "97a1a526",
   "metadata": {},
   "outputs": [],
   "source": [
    "from sklearn.model_selection import train_test_split\n",
    "X_train, X_test, y_train, y_test = train_test_split(df.iloc[:, :-1], df.iloc[:, -1], test_size=0.3, random_state=42)"
   ]
  },
  {
   "cell_type": "code",
   "execution_count": 28,
   "id": "efbd3aff",
   "metadata": {},
   "outputs": [
    {
     "data": {
      "text/plain": [
       "GridSearchCV(cv=5, estimator=LogisticRegression(multi_class='multinomial'),\n",
       "             param_grid={'C': [0.01, 0.03, 0.07, 0.09, 0.1],\n",
       "                         'penalty': ['l1', 'l2', 'elasticnet']},\n",
       "             scoring='accuracy')"
      ]
     },
     "execution_count": 28,
     "metadata": {},
     "output_type": "execute_result"
    }
   ],
   "source": [
    "from sklearn.linear_model import LogisticRegression\n",
    "regression=LogisticRegression(multi_class='multinomial')\n",
    "from sklearn.model_selection import GridSearchCV\n",
    "parameter={'C':[0.01,0.03, 0.07, 0.09, 0.1], 'penalty':['l1','l2','elasticnet']}\n",
    "log_regressor=GridSearchCV(regression,parameter,scoring='accuracy',cv=5)\n",
    "log_regressor.fit(X_train,y_train)"
   ]
  },
  {
   "cell_type": "code",
   "execution_count": 29,
   "id": "e98ac866",
   "metadata": {},
   "outputs": [
    {
     "name": "stdout",
     "output_type": "stream",
     "text": [
      "{'C': 0.09, 'penalty': 'l2'}\n"
     ]
    }
   ],
   "source": [
    "print(log_regressor.best_params_)"
   ]
  },
  {
   "cell_type": "code",
   "execution_count": 30,
   "id": "90d417dc",
   "metadata": {},
   "outputs": [
    {
     "name": "stdout",
     "output_type": "stream",
     "text": [
      "0.9111111111111111\n"
     ]
    }
   ],
   "source": [
    "print(log_regressor.best_score_)"
   ]
  },
  {
   "cell_type": "code",
   "execution_count": 31,
   "id": "3d8aa690",
   "metadata": {},
   "outputs": [],
   "source": [
    "prediction_log=log_regressor.predict(X_test)"
   ]
  },
  {
   "cell_type": "code",
   "execution_count": 32,
   "id": "cce7c4fe",
   "metadata": {},
   "outputs": [],
   "source": [
    "from sklearn.metrics import accuracy_score,confusion_matrix,precision_recall_curve,roc_auc_score,f1_score"
   ]
  },
  {
   "cell_type": "code",
   "execution_count": 33,
   "id": "6c7cdea7",
   "metadata": {},
   "outputs": [
    {
     "data": {
      "text/plain": [
       "array([[23,  0,  0],\n",
       "       [ 0, 17,  2],\n",
       "       [ 0,  0, 18]], dtype=int64)"
      ]
     },
     "execution_count": 33,
     "metadata": {},
     "output_type": "execute_result"
    }
   ],
   "source": [
    "confusion_matrix(y_test,prediction_log)"
   ]
  },
  {
   "cell_type": "code",
   "execution_count": 34,
   "id": "1be46766",
   "metadata": {},
   "outputs": [
    {
     "data": {
      "text/plain": [
       "0.9666666666666667"
      ]
     },
     "execution_count": 34,
     "metadata": {},
     "output_type": "execute_result"
    }
   ],
   "source": [
    "accuracy_score(y_test,prediction_log)"
   ]
  },
  {
   "cell_type": "code",
   "execution_count": 35,
   "id": "99cb7eef",
   "metadata": {},
   "outputs": [
    {
     "name": "stdout",
     "output_type": "stream",
     "text": [
      "Accuracy:  0.9333333333333333\n",
      "Accuracy:  0.9555555555555556\n"
     ]
    }
   ],
   "source": [
    "import pandas as pd\n",
    "from sklearn.linear_model import LogisticRegression\n",
    "from sklearn.model_selection import train_test_split\n",
    "from sklearn.metrics import accuracy_score\n",
    "\n",
    "# Load the dataset\n",
    "iris_df = pd.read_csv(\"https://archive.ics.uci.edu/ml/machine-learning-databases/iris/iris.data\", \n",
    "                      names=['sepal_length', 'sepal_width', 'petal_length', 'petal_width', 'class'])\n",
    "\n",
    "# Split the dataset into features and labels\n",
    "X = iris_df.drop('class', axis=1)\n",
    "y = iris_df['class']\n",
    "\n",
    "# Split the dataset into training and testing sets\n",
    "X_train, X_test, y_train, y_test = train_test_split(X, y, test_size=0.3, random_state=42)\n",
    "\n",
    "# Create an instance of the logistic regression classifier with L2 regularization\n",
    "logreg = LogisticRegression(multi_class='multinomial', solver='lbfgs', C=0.1, penalty='l2')\n",
    "\n",
    "# Train the classifier on the training data\n",
    "logreg.fit(X_train, y_train)\n",
    "\n",
    "y_pred_train = logreg.predict(X_train)\n",
    "\n",
    "# Predict the labels of the test data\n",
    "y_pred_test = logreg.predict(X_test)\n",
    "\n",
    "# Evaluate the accuracy of the classifier\n",
    "accuracy = accuracy_score(y_train, y_pred_train)\n",
    "print(\"Accuracy: \", accuracy)\n",
    "accuracy = accuracy_score(y_test, y_pred_test)\n",
    "print(\"Accuracy: \", accuracy)\n"
   ]
  },
  {
   "cell_type": "code",
   "execution_count": null,
   "id": "171888b0",
   "metadata": {},
   "outputs": [],
   "source": []
  },
  {
   "cell_type": "code",
   "execution_count": null,
   "id": "58f76991",
   "metadata": {},
   "outputs": [],
   "source": []
  }
 ],
 "metadata": {
  "kernelspec": {
   "display_name": "Python 3 (ipykernel)",
   "language": "python",
   "name": "python3"
  },
  "language_info": {
   "codemirror_mode": {
    "name": "ipython",
    "version": 3
   },
   "file_extension": ".py",
   "mimetype": "text/x-python",
   "name": "python",
   "nbconvert_exporter": "python",
   "pygments_lexer": "ipython3",
   "version": "3.9.13"
  }
 },
 "nbformat": 4,
 "nbformat_minor": 5
}
